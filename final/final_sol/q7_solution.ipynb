{
 "cells": [
  {
   "cell_type": "code",
   "execution_count": 1,
   "metadata": {
    "colab": {},
    "colab_type": "code",
    "id": "xm3EFUiMWho1"
   },
   "outputs": [],
   "source": [
    "import numpy as np\n",
    "from matplotlib import pyplot as plt\n",
    "import time\n",
    "\n"
   ]
  },
  {
   "cell_type": "code",
   "execution_count": 2,
   "metadata": {},
   "outputs": [],
   "source": [
    "# utility function: random tie breaking\n",
    "def randmax(A):\n",
    "    indices = [i for i in range(len(A)) if A[i]==np.max(A)]\n",
    "    return np.random.choice(indices)\n",
    "\n",
    "\n",
    "class Bernoulli_bandit:\n",
    "    \n",
    "    def __init__(self, mus):\n",
    "        self.mus = mus\n",
    "        self.max_mu = np.max(mus)\n",
    "        self.n_arms = len(mus)\n",
    "        \n",
    "    def draw(self, arm):\n",
    "        return(np.random.binomial(1, p=mus[arm]))\n",
    "\n",
    "        \n",
    "# run an alg on a bandit for T iterations and N_exp repetitions\n",
    "def multiple_runs(bandit, alg, T, N_exp):\n",
    "    np.random.seed()\n",
    "    expected_regrets = np.zeros((N_exp, T))\n",
    "    actual_regrets = np.zeros((N_exp, T))\n",
    "    for n in range(N_exp):\n",
    "        alg.refresh()\n",
    "        expected_regret,actual_regret = alg.run()\n",
    "        expected_regrets[n, :] = expected_regret\n",
    "        actual_regrets[n, :] = actual_regret\n",
    "        \n",
    "    return (expected_regrets,actual_regrets)\n",
    "\n",
    "\n",
    " \n",
    "\n",
    "class Thompson_sampling:\n",
    "\n",
    "    def __init__(self, mab, T, a=1, b=1):\n",
    "        self.mab = mab\n",
    "        self.T = T\n",
    "        self.n_arms = mab.n_arms\n",
    "        self.a = a\n",
    "        self.b = b\n",
    "        self.n_draws = np.zeros(self.n_arms)\n",
    "        self.cum_rewards = np.zeros(self.n_arms)\n",
    "        \n",
    "    def refresh(self):\n",
    "        self.n_draws = np.zeros(self.n_arms)\n",
    "        self.cum_rewards = np.zeros(self.n_arms)\n",
    "        \n",
    "    def action(self):\n",
    "        posteriors = np.zeros(self.n_arms)\n",
    "        for kk in range(self.n_arms):\n",
    "            posteriors[kk]= np.random.beta(self.cum_rewards[kk]+self.a, self.n_draws[kk]-self.cum_rewards[kk]+self.b)\n",
    "        return randmax(posteriors)\n",
    "\n",
    "    def receive_reward(self,arm):\n",
    "        reward = self.mab.draw(arm)\n",
    "        self.cum_rewards[arm] = self.cum_rewards[arm] +reward\n",
    "        self.n_draws[arm] = self.n_draws[arm] +1\n",
    "        return(reward)\n",
    "\n",
    "\n",
    "    def run(self):\n",
    "        T = self.T\n",
    "        max_mu = self.mab.max_mu\n",
    "        mus = self.mab.mus\n",
    "        expected_regret = np.zeros(T)\n",
    "        actual_regret = np.zeros(T)\n",
    "\n",
    "        for t in range(T):\n",
    "            a_t = self.action()\n",
    "            reward = self.receive_reward(a_t)\n",
    "            expected_regret[t] = expected_regret[t-1]+max_mu-mus[a_t]\n",
    "            actual_regret[t] = actual_regret[t-1]+max_mu-reward\n",
    "            \n",
    "        return(expected_regret,actual_regret)\n",
    "\n"
   ]
  },
  {
   "cell_type": "markdown",
   "metadata": {},
   "source": [
    "# set up the bandits and algs and plot the actual rewards"
   ]
  },
  {
   "cell_type": "code",
   "execution_count": 3,
   "metadata": {
    "scrolled": true
   },
   "outputs": [
    {
     "name": "stdout",
     "output_type": "stream",
     "text": [
      "[10.072 10.101 10.116 10.135 10.151 10.149 10.153 10.154 10.161 10.16 ] -31.099999999999362 52.000000000002665\n",
      "76.9015212059021\n"
     ]
    }
   ],
   "source": [
    "N_exp = 1000\n",
    "T = 2500\n",
    "mus = mus = [0.4,0.6]\n",
    "\n",
    "bandit = Bernoulli_bandit(mus)\n",
    "\n",
    "\n",
    "\n",
    "alg = Thompson_sampling(bandit, T)\n",
    "\n",
    "\n",
    "expected_regrets,actual_regrets = multiple_runs(bandit, alg, T, N_exp)\n"
   ]
  },
  {
   "cell_type": "code",
   "execution_count": 4,
   "metadata": {},
   "outputs": [
    {
     "data": {
      "image/png": "[encoded data removed]",
      "text/plain": [
       "<Figure size 360x252 with 1 Axes>"
      ]
     },
     "metadata": {
      "needs_background": "light"
     },
     "output_type": "display_data"
    }
   ],
   "source": [
    "fig, ax = plt.subplots(1,1,figsize=(5,3.5))\n",
    "\n",
    "ax.plot(np.arange(T), np.mean(actual_regrets, 0), linewidth=2.0, color='k')\n",
    "ax.plot(np.arange(T), np.quantile(actual_regrets, 0.95, 0), np.arange(T), np.quantile(actual_regrets,0.05,0), linestyle=\"dashed\", color='k')\n",
    "ax.set_title('actual regret for Thompson sampling')\n",
    "plt.show()"
   ]
  }
 ],
 "metadata": {
  "colab": {
   "name": "RLSS_Bandits_correction.ipynb",
   "provenance": [],
   "toc_visible": true,
   "version": "0.3.2"
  },
  "kernelspec": {
   "display_name": "Python 3",
   "language": "python",
   "name": "python3"
  },
  "language_info": {
   "codemirror_mode": {
    "name": "ipython",
    "version": 3
   },
   "file_extension": ".py",
   "mimetype": "text/x-python",
   "name": "python",
   "nbconvert_exporter": "python",
   "pygments_lexer": "ipython3",
   "version": "3.8.5"
  }
 },
 "nbformat": 4,
 "nbformat_minor": 1
}
