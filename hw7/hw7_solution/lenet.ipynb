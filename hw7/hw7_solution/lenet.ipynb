{
  "nbformat": 4,
  "nbformat_minor": 0,
  "metadata": {
    "accelerator": "GPU",
    "kernelspec": {
      "display_name": "Python 3",
      "name": "python3"
    },
    "language_info": {
      "name": "python"
    },
    "colab": {
      "name": "lenet.ipynb",
      "provenance": [],
      "collapsed_sections": []
    }
  },
  "cells": [
    {
      "cell_type": "code",
      "metadata": {
        "id": "gupfDq4Fwgii"
      },
      "source": [
        "import gzip\n",
        "import os\n",
        "\n",
        "import numpy as np\n",
        "\n",
        "from six.moves import urllib\n",
        "\n",
        "import torch as t\n",
        "\n",
        "SOURCE_URL = 'http://yann.lecun.com/exdb/mnist/'\n",
        "DATA_DIRECTORY = \"data\"\n",
        "\n",
        "# Params for MNIST\n",
        "IMAGE_SIZE = 28\n",
        "NUM_CHANNELS = 1\n",
        "PIXEL_DEPTH = 255\n",
        "NUM_LABELS = 10\n",
        "VALIDATION_SIZE = 10000  # Size of the validation set.\n",
        "\n",
        "# Download MNIST data\n",
        "def maybe_download(filename):\n",
        "    \"\"\"Download the data from Yann's website, unless it's already here.\"\"\"\n",
        "    if not os.path.exists(DATA_DIRECTORY):\n",
        "        os.mkdir(DATA_DIRECTORY)\n",
        "    filepath = os.path.join(DATA_DIRECTORY, filename)\n",
        "    if not os.path.exists(filepath):\n",
        "        filepath, _ = urllib.request.urlretrieve(SOURCE_URL + filename, filepath)\n",
        "        size = os.stat(filepath).st_size\n",
        "        print('Successfully downloaded', filename, size, 'bytes.')\n",
        "    return filepath\n",
        "\n",
        "\n",
        "# Extract the images\n",
        "def extract_data(filename, num_images, norm_shift=False, norm_scale=True):\n",
        "    \"\"\"Extract the images into a 4D tensor [image index, y, x, channels].\n",
        "    Values are rescaled from [0, 255] down to [-0.5, 0.5].\n",
        "    \"\"\"\n",
        "    #print('Extracting', filename)\n",
        "    with gzip.open(filename) as bytestream:\n",
        "        bytestream.read(16)\n",
        "        buf = bytestream.read(IMAGE_SIZE * IMAGE_SIZE * num_images * NUM_CHANNELS)\n",
        "        data = np.frombuffer(buf, dtype=np.uint8).astype(np.float32)\n",
        "        if norm_shift:\n",
        "            data = data - (PIXEL_DEPTH / 2.0)\n",
        "        if norm_scale:\n",
        "            data = data / PIXEL_DEPTH\n",
        "        data = data.reshape(num_images, IMAGE_SIZE, IMAGE_SIZE, NUM_CHANNELS)\n",
        "        data = np.reshape(data, [num_images, -1])\n",
        "    return data\n",
        "\n",
        "# Extract the labels\n",
        "def extract_labels(filename, num_images):\n",
        "    \"\"\"Extract the labels into a vector of int64 label IDs.\"\"\"\n",
        "    #print('Extracting', filename)\n",
        "    with gzip.open(filename) as bytestream:\n",
        "        bytestream.read(8)\n",
        "        buf = bytestream.read(1 * num_images)\n",
        "        labels = np.frombuffer(buf, dtype=np.uint8).astype(np.int64)\n",
        "        num_labels_data = len(labels)\n",
        "        one_hot_encoding = np.zeros((num_labels_data,NUM_LABELS))\n",
        "        one_hot_encoding[np.arange(num_labels_data),labels] = 1\n",
        "        one_hot_encoding = np.reshape(one_hot_encoding, [-1, NUM_LABELS])\n",
        "    return one_hot_encoding\n",
        "\n",
        "# Prepare MNISt data\n",
        "def prepare_MNIST_data(n_train=10_000, n_val=10000, n_test=10000, \n",
        "                       use_norm_shift=False, use_norm_scale=True, use_data_augmentation=False):\n",
        "    # Get the data.\n",
        "    train_data_filename = maybe_download('train-images-idx3-ubyte.gz')\n",
        "    train_labels_filename = maybe_download('train-labels-idx1-ubyte.gz')\n",
        "    test_data_filename = maybe_download('t10k-images-idx3-ubyte.gz')\n",
        "    test_labels_filename = maybe_download('t10k-labels-idx1-ubyte.gz')\n",
        "\n",
        "    # Extract it into np arrays.\n",
        "    X_train = extract_data(train_data_filename, n_train+n_val, use_norm_shift, use_norm_scale)\n",
        "    y_train = extract_labels(train_labels_filename, n_train+n_val)\n",
        "    X_test = extract_data(test_data_filename, n_test, use_norm_shift, use_norm_scale)\n",
        "    y_test = extract_labels(test_labels_filename, n_test)\n",
        "\n",
        "    # Generate a validation set.\n",
        "    X_val = X_train[:n_val, :]\n",
        "    y_val = y_train[:n_val,:]\n",
        "\n",
        "    X_train = X_train[n_val:n_val+n_train, :]\n",
        "    y_train = y_train[n_val:n_val+n_train,:]\n",
        "\n",
        "    y_train = np.argmax(y_train, axis=1)\n",
        "    y_val = np.argmax(y_val, axis=1)\n",
        "    y_test = np.argmax(y_test, axis=1)\n",
        "    \n",
        "    assert len(X_train)==len(y_train)\n",
        "    assert len(X_val)==len(y_val)\n",
        "    assert len(X_test)==len(y_test)\n",
        "\n",
        "    data = {'X_train': X_train,\n",
        "            'y_train': y_train,\n",
        "            'X_val': X_val,\n",
        "            'y_val': y_val,\n",
        "            'X_test': X_test,\n",
        "            'y_test': y_test}\n",
        "    return data\n",
        "\n",
        "def get_dataloader(X, y, batch_size):\n",
        "    X_tensor = t.tensor(X, dtype=t.float32)\n",
        "    y_tensor = t.tensor(y, dtype=t.int64)\n",
        "    dataset = t.utils.data.TensorDataset(X_tensor, y_tensor)\n",
        "    dataloader = t.utils.data.DataLoader(dataset, batch_size=batch_size)\n",
        "    return dataloader"
      ],
      "execution_count": 1,
      "outputs": []
    },
    {
      "cell_type": "code",
      "metadata": {
        "id": "7jzj9wpog1wI"
      },
      "source": [
        "import time\n",
        "import numpy as np\n",
        "import matplotlib.pyplot as plt\n",
        "import torch as t\n",
        "import torchvision\n",
        "from torch import nn\n",
        "from torch import optim\n",
        "from torch.nn import functional as F\n",
        "def divide_no_nan(a, b):\n",
        "    \"\"\"\n",
        "    a/b where the resulted NaN or Inf are replaced by 0.\n",
        "    \"\"\"\n",
        "    result = a / b\n",
        "    result[result != result] = .0\n",
        "    result[result == np.inf] = .0\n",
        "    return result\n",
        "\n",
        "\n",
        "class WeightNormConstrainer(object):\n",
        "\n",
        "    def __init__(self, norm):\n",
        "        self.norm = norm\n",
        "\n",
        "    def __call__(self, module):\n",
        "        if hasattr(module, 'weight'):\n",
        "            w = module.weight.data\n",
        "            wn = t.norm(w, p=2, dim=1).detach()\n",
        "            ind = t.gt(wn, self.norm)\n",
        "            div = (divide_no_nan(wn, self.norm) * ind) + (1 * t.logical_not(ind))\n",
        "            div = div.unsqueeze_(1)\n",
        "            w.div_(div)\n",
        "\n",
        "class _LeNet(nn.Module):\n",
        "    def __init__(self, layers):\n",
        "        super(_LeNet, self).__init__()\n",
        "        self.input_layer = nn.Sequential(*layers['input_layer'])\n",
        "        self.hidden_layers = nn.Sequential(*layers['hidden_layers'])\n",
        "        self.output_layer = nn.Sequential(*layers['output_layer'])\n",
        "\n",
        "    def layer_features(self, x):\n",
        "        input_layer = self.input_layer(x)\n",
        "        hidden = self.hidden_layers(input_layer)\n",
        "        logits = self.output_layer(hidden)\n",
        "        layer_features = {'input_layer': input_layer.data.cpu().numpy(),\n",
        "                          'hidden': hidden.data.cpu().numpy(),\n",
        "                          'logits': logits.data.cpu().numpy()}\n",
        "        return layer_features\n",
        "\n",
        "    def get_intermediate(self, x):\n",
        "        \n",
        "        conv1 = self.input_layer[0](x)\n",
        "        conv1 = self.input_layer[1](conv1)\n",
        "\n",
        "        pool1 = self.input_layer(x)\n",
        "        pool1 = self.hidden_layers[0](pool1)\n",
        "\n",
        "        return conv1, pool1\n",
        "\n",
        "    def forward(self, x):\n",
        "        input_layer = self.input_layer(x)\n",
        "        hidden = self.hidden_layers(input_layer)\n",
        "        logits = self.output_layer(hidden)\n",
        "        return logits\n",
        "\n",
        "\n",
        "class Reshape(t.nn.Module):\n",
        "  def forward(self, x):\n",
        "      return x.view(-1,1,28,28)\n",
        "\n",
        "class LeNet(object):\n",
        "    def __init__(self, params):\n",
        "        \n",
        "        super().__init__()\n",
        "        self.params = params\n",
        "        self.device = t.device('cuda' if t.cuda.is_available() else 'cpu')\n",
        "        self.activations = {'logistic': nn.Sigmoid(), 'relu': nn.ReLU()}\n",
        "        self.pooling ={'avg':nn.AvgPool2d(kernel_size=2, stride=2),'max':nn.MaxPool2d(kernel_size=2, stride=2)}\n",
        "        # Instantiate model\n",
        "        t.manual_seed(self.params['random_seed'])\n",
        "        np.random.seed(self.params['random_seed'])\n",
        "        layers = self._initialize_network()\n",
        "        self.model = _LeNet(layers).to(self.device)\n",
        "        self.layers = layers\n",
        "    def _initialize_network(self):\n",
        "    \t# TODO: complete this function\n",
        "        # Input\n",
        "        input_layers = [Reshape(), nn.Conv2d(1, 6, kernel_size=5, padding=2),self.activations[self.params['activation']]]\n",
        "        if self.params['pooling'] == 'no':\n",
        "          hidden_layers = [nn.Conv2d(6, 16, kernel_size=5), self.activations[self.params['activation']],\n",
        "                           nn.Flatten(), nn.Linear(16 * 24 * 24, 120), self.activations[self.params['activation']], nn.Linear(120, 84), self.activations[self.params['activation']]]        \n",
        "        else:\n",
        "          hidden_layers = [self.pooling[self.params['pooling']], nn.Conv2d(6, 16, kernel_size=5), self.activations[self.params['activation']], self.pooling[self.params['pooling']],\n",
        "                           nn.Flatten(), nn.Linear(16 * 5 * 5, 120), self.activations[self.params['activation']], nn.Linear(120, 84), self.activations[self.params['activation']]]\n",
        "        output_layer =  [nn.Linear(84, 10)]                \n",
        "        layers = {'input_layer': input_layers,\n",
        "          'hidden_layers': hidden_layers,\n",
        "          'output_layer': output_layer}\n",
        "        return layers\n",
        "    \n",
        "    def evaluate_accuracy(self, dataloader):\n",
        "        self.model.eval()\n",
        "        with t.no_grad():\n",
        "            n_correct = 0\n",
        "            n_samples = 0\n",
        "            for batch in iter(dataloader):\n",
        "                batch_x = t.flatten(batch[0].to(self.device), start_dim=1)\n",
        "                batch_y = batch[1].to(self.device)\n",
        "                \n",
        "                logits = self.model(batch_x)\n",
        "                y_hat = t.argmax(logits, dim=1)\n",
        "                correct = t.sum(y_hat==batch_y)\n",
        "\n",
        "                n_correct += correct.data.cpu().numpy()\n",
        "                n_samples += len(batch_x)\n",
        "        accuracy = (n_correct/n_samples) * 100\n",
        "        self.model.train()\n",
        "        return accuracy\n",
        "\n",
        "    def evaluate_cross_entropy(self, dataloader):\n",
        "        loss = nn.CrossEntropyLoss()\n",
        "        losses = []\n",
        "        self.model.eval()\n",
        "        with t.no_grad():\n",
        "            for batch in iter(dataloader):\n",
        "                batch_x = t.flatten(batch[0].to(self.device), start_dim=1)\n",
        "                batch_y = batch[1].to(self.device)\n",
        "\n",
        "                logits = self.model(batch_x)\n",
        "                batch_loss = loss(logits, batch_y)\n",
        "                losses.append(batch_loss.cpu().data.numpy())\n",
        "        cross_entropy = np.mean(losses)\n",
        "        self.model.train()\n",
        "        return cross_entropy\n",
        "    \n",
        "    def adjust_lr(self, optimizer, lr_decay):\n",
        "        for param_group in optimizer.param_groups:\n",
        "            param_group['lr'] = param_group['lr'] * lr_decay\n",
        "        \n",
        "    def adjust_momentum(self, optimizer, step, momentum_change_steps,\n",
        "                        initial_momentum, final_momentum):\n",
        "        mcs = momentum_change_steps\n",
        "        s = min(step, mcs)\n",
        "        momentum = (initial_momentum) * ((mcs-s)/mcs) + \\\n",
        "                   (final_momentum) * (s/mcs)\n",
        "        for param_group in optimizer.param_groups:\n",
        "            param_group['momentum'] = momentum\n",
        "\n",
        "    def get_filters(self):\n",
        "        filters = self.model.input_layer[1].weight.data.cpu().numpy()\n",
        "        #filters = filters.reshape(self.params['hidden_layers'][0], 28, 28)\n",
        "        return filters\n",
        "\n",
        "    def fit(self, insample_dataloader, outsample_dataloader):        \n",
        "        # Instantiate optimization tools\n",
        "        loss = nn.CrossEntropyLoss()        \n",
        "        optimizer = optim.SGD([{'params': self.model.input_layer.parameters()},\n",
        "                               {'params': self.model.hidden_layers.parameters()},\n",
        "                               {'params': self.model.output_layer.parameters(),\n",
        "                                'weight_decay': self.params['output_l2_decay']}],\n",
        "                               lr=self.params['initial_lr'],\n",
        "                               momentum=self.params['initial_momentum'])\n",
        "        \n",
        "        constrainer = WeightNormConstrainer(norm=self.params['weight_norm'])\n",
        "\n",
        "        # Initialize counters and trajectories\n",
        "        step = 0\n",
        "        epoch = 0\n",
        "        metric_trajectories = {'step':  [],\n",
        "                               'epoch':  [],\n",
        "                               'insample_accuracy': [],\n",
        "                               'outsample_accuracy': [],\n",
        "                               'insample_cross_entropy': [],\n",
        "                               'outsample_cross_entropy': []\n",
        "                               }\n",
        "\n",
        "        print('\\n'+'='*36+' Fitting LeNet '+'='*36)\n",
        "        while step <= self.params['iterations']:\n",
        "\n",
        "            # Train\n",
        "            epoch += 1\n",
        "            self.model.train()\n",
        "            for batch in iter(insample_dataloader):\n",
        "                step+=1\n",
        "                if step > self.params['iterations']:\n",
        "                    continue\n",
        "                                \n",
        "                batch_x = t.flatten(batch[0].to(self.device), start_dim=1)\n",
        "                batch_y = batch[1].to(self.device)\n",
        "                \n",
        "                optimizer.zero_grad()\n",
        "\n",
        "                # TODO: make predictions, compute the loss and backward propagation\n",
        "                logits = self.model(batch_x)\n",
        "                training_loss = loss(logits, batch_y)\n",
        "                training_loss.backward()\n",
        "\n",
        "                t.nn.utils.clip_grad_norm_(self.model.parameters(), 20)\n",
        "                optimizer.step()\n",
        "\n",
        "                # Evaluate metrics\n",
        "                if (step % params['display_step'] == 0):\n",
        "                    in_cross_entropy   = self.evaluate_cross_entropy(insample_dataloader)\n",
        "                    out_cross_entropy  = self.evaluate_cross_entropy(outsample_dataloader)\n",
        "                    in_accuracy        = self.evaluate_accuracy(insample_dataloader)\n",
        "                    out_accuracy       = self.evaluate_accuracy(outsample_dataloader)\n",
        "\n",
        "                    print('Epoch:', '%d,' % epoch,\n",
        "                          'Step:', '%d,' % step,\n",
        "                          'In Loss: {:.7f},'.format(in_cross_entropy),\n",
        "                          'Out Loss: {:.7f},'.format(out_cross_entropy),\n",
        "                          'In Acc: {:03.3f},'.format(in_accuracy),\n",
        "                          'Out Acc: {:03.3f}'.format(out_accuracy))\n",
        "                    \n",
        "                    metric_trajectories['insample_cross_entropy'].append(in_cross_entropy)\n",
        "                    metric_trajectories['outsample_cross_entropy'].append(out_cross_entropy)\n",
        "                    metric_trajectories['insample_accuracy'].append(in_accuracy)\n",
        "                    metric_trajectories['outsample_accuracy'].append(out_accuracy)\n",
        "\n",
        "                # Update optimizer learning rate\n",
        "                if step % self.params['adjust_lr_step'] == 0:\n",
        "                    self.adjust_lr(optimizer=optimizer, lr_decay=self.params['lr_decay'])\n",
        "                \n",
        "                # Update optimizer momentum\n",
        "                if step % self.params['adjust_momentum_step'] == 0 and \\\n",
        "                    step < self.params['momentum_change_steps']:\n",
        "                    self.adjust_momentum(optimizer=optimizer, step=step,\n",
        "                                         momentum_change_steps=self.params['momentum_change_steps'],\n",
        "                                         initial_momentum=self.params['initial_momentum'],\n",
        "                                         final_momentum=self.params['final_momentum'])\n",
        "              \n",
        "                # Constraint max_norm of weights\n",
        "                if self.params['apply_weight_norm'] and \\\n",
        "                  (step % self.params['adjust_norm_step'] == 0):\n",
        "                    self.model.apply(constrainer)\n",
        "\n",
        "        # Store trajectories\n",
        "        print('\\n'+'='*35+' Finished Train '+'='*35)\n",
        "        self.trajectories = metric_trajectories"
      ],
      "execution_count": 2,
      "outputs": []
    },
    {
      "cell_type": "code",
      "metadata": {
        "id": "hDkaMw7a7pBh"
      },
      "source": [
        "params = {'model': 'lenet',\n",
        "          'display_step': 250, \n",
        "          'batch_size': 1024,\n",
        "          'iterations': 30_000,\n",
        "          'initial_lr': 0.05,\n",
        "          'lr_decay': 0.5,\n",
        "          'adjust_lr_step': 10_000,\n",
        "          'initial_momentum': 0.5,\n",
        "          'final_momentum': 0.95,\n",
        "          'momentum_change_steps': 20_000,\n",
        "          'adjust_momentum_step': 2_000,\n",
        "          'apply_weight_norm': True,\n",
        "          'weight_norm': 3.5,\n",
        "          'adjust_norm_step': 5_000,\n",
        "          'output_l2_decay': 0.001,\n",
        "          'pooling': 'no',\n",
        "          'activation':'relu',\n",
        "          'random_seed': 42}\n",
        "\n",
        "data = prepare_MNIST_data(n_train=20_000, n_val=10_000, n_test=5_000,\n",
        "                              use_norm_shift=False, use_norm_scale=True, use_data_augmentation=False)\n",
        "X_train, y_train, X_val, y_val, _, _ = data.values()\n",
        "insample_dataloader = get_dataloader(X_train, y_train, batch_size=params['batch_size'])\n",
        "outsample_dataloader = get_dataloader(X_val, y_val, batch_size=params['batch_size'])\n",
        "\n",
        "\n",
        "clf_no = LeNet(params)\n",
        "start = time.time()\n",
        "clf_no.fit(insample_dataloader, outsample_dataloader)\n",
        "end = time.time()\n",
        "time_no = end - start\n",
        "\n",
        "\n",
        "\n",
        "params['pooling']='avg'\n",
        "clf_avg = LeNet(params)\n",
        "start = time.time()\n",
        "clf_avg.fit(insample_dataloader, outsample_dataloader)\n",
        "end = time.time()\n",
        "time_avg = end - start\n",
        "\n",
        "\n",
        "params['pooling']='max'\n",
        "clf_max = LeNet(params)\n",
        "start = time.time()\n",
        "clf_max.fit(insample_dataloader, outsample_dataloader)\n",
        "end = time.time()\n",
        "time_max = end - start"
      ],
      "execution_count": null,
      "outputs": []
    },
    {
      "cell_type": "markdown",
      "metadata": {
        "id": "bCHnw4cHW2C9"
      },
      "source": [
        "(b) The results are shown in the table below. \n",
        "\n",
        "M_no takes longer to train because there are more parameters for training."
      ]
    },
    {
      "cell_type": "markdown",
      "metadata": {
        "id": "UkWF7pnPU5z3"
      },
      "source": [
        "Model | training acc | testing acc | training time\n",
        "--- | --- | --- | ---\n",
        "M_no | 100 | 97.57 | 696.5\n",
        "M_avg | 100 | 97.88 | 479.2\n",
        "M_max | 100 | 98.09 | 484.3"
      ]
    },
    {
      "cell_type": "markdown",
      "metadata": {
        "id": "6ZKA2V4wXE5Y"
      },
      "source": [
        "(c) Train and test loss\n",
        "\n",
        "\n",
        "```\n",
        "# This is formatted as code\n",
        "```\n",
        "\n"
      ]
    },
    {
      "cell_type": "code",
      "metadata": {
        "id": "RIWhCM1b7pIX",
        "colab": {
          "base_uri": "https://localhost:8080/",
          "height": 173
        },
        "outputId": "37c7be39-e301-49cd-82e6-23c98c8baf15"
      },
      "source": [
        "fig, ax = plt.subplots(1,3,figsize=(15,2))\n",
        "keys = ['insample_cross_entropy', 'outsample_cross_entropy']\n",
        "clfs = [clf_no,clf_avg,clf_max]\n",
        "model_names = ['M_no','M_avg','M_max']\n",
        "for i in range(len(clfs)):\n",
        "  ax[i].plot(np.arange(len(clfs[i].trajectories[keys[0]]))*params['display_step'], clfs[i].trajectories[keys[0]],label='training loss')\n",
        "  ax[i].plot(np.arange(len(clfs[i].trajectories[keys[0]]))*params['display_step'], clfs[i].trajectories[keys[1]],label='testing loss')\n",
        "  ax[i].set_title(model_names[i])\n",
        "ax[-1].legend()\n",
        "plt.show()"
      ],
      "execution_count": 24,
      "outputs": [
        {
          "output_type": "display_data",
          "data": {
            "image/png": "[encoded data removed]",
            "text/plain": [
              "<Figure size 1080x144 with 3 Axes>"
            ]
          },
          "metadata": {
            "tags": [],
            "needs_background": "light"
          }
        }
      ]
    },
    {
      "cell_type": "markdown",
      "metadata": {
        "id": "lrvp4SRJYSg2"
      },
      "source": [
        "(d) Train and test acc\n"
      ]
    },
    {
      "cell_type": "code",
      "metadata": {
        "colab": {
          "base_uri": "https://localhost:8080/",
          "height": 173
        },
        "id": "53RgIdZCYU3_",
        "outputId": "2d4b0a95-7d81-4a41-ae2e-f26cc49389db"
      },
      "source": [
        "fig, ax = plt.subplots(1,3,figsize=(15,2))\n",
        "keys = ['insample_accuracy', 'outsample_accuracy']\n",
        "clfs = [clf_no,clf_avg,clf_max]\n",
        "model_names = ['M_no','M_avg','M_max']\n",
        "for i in range(len(clfs)):\n",
        "  ax[i].plot(np.arange(len(clfs[i].trajectories[keys[0]]))*params['display_step'], clfs[i].trajectories[keys[0]],label='training loss')\n",
        "  ax[i].plot(np.arange(len(clfs[i].trajectories[keys[0]]))*params['display_step'], clfs[i].trajectories[keys[1]],label='testing loss')\n",
        "  ax[i].set_title(model_names[i])\n",
        "ax[-1].legend()\n",
        "plt.show()"
      ],
      "execution_count": 25,
      "outputs": [
        {
          "output_type": "display_data",
          "data": {
            "image/png": "[encoded data removed]",
            "text/plain": [
              "<Figure size 1080x144 with 3 Axes>"
            ]
          },
          "metadata": {
            "tags": [],
            "needs_background": "light"
          }
        }
      ]
    },
    {
      "cell_type": "markdown",
      "metadata": {
        "id": "YgNP-dX0ZFBj"
      },
      "source": [
        "(e) visualization of intermediate layers\n",
        "\n",
        "\n",
        "From original to first conv: the filters detected different edges of the digit\n",
        "\n",
        "From first conv to first pool: max pooling downsampled the output of the first conv layer."
      ]
    },
    {
      "cell_type": "code",
      "metadata": {
        "id": "Jn9P3NQsY1IU"
      },
      "source": [
        "model = clf_max.model\n",
        "train_data_filename = maybe_download('train-images-idx3-ubyte.gz')\n",
        "X_train = extract_data(train_data_filename, 1, 1, 1)\n",
        "x = t.tensor(X_train[0])\n",
        "intermediate_layers = model.get_intermediate(x.to(clf_max.device))\n",
        "conv1 = intermediate_layers[0].data.cpu().numpy()\n",
        "pool1 = intermediate_layers[1].data.cpu().numpy()"
      ],
      "execution_count": 29,
      "outputs": []
    },
    {
      "cell_type": "code",
      "metadata": {
        "colab": {
          "base_uri": "https://localhost:8080/",
          "height": 227
        },
        "id": "H9Y8i1F4ZTOM",
        "outputId": "f6d25159-be76-4c47-9966-c57925f6eb68"
      },
      "source": [
        "fig, ax = plt.subplots(1,1,figsize=(3,3))\n",
        "ax.imshow(x.data.cpu().numpy().reshape([28,-1]))\n",
        "ax.set_title('original')\n",
        "plt.show()"
      ],
      "execution_count": 40,
      "outputs": [
        {
          "output_type": "display_data",
          "data": {
            "image/png": "[encoded data removed]",
            "text/plain": [
              "<Figure size 216x216 with 1 Axes>"
            ]
          },
          "metadata": {
            "tags": [],
            "needs_background": "light"
          }
        }
      ]
    },
    {
      "cell_type": "code",
      "metadata": {
        "colab": {
          "base_uri": "https://localhost:8080/",
          "height": 199
        },
        "id": "U1VuYsPWZyct",
        "outputId": "b90fe96f-d64a-4acc-9ca2-c0fed725c906"
      },
      "source": [
        "fig, ax = plt.subplots(1,6,figsize=(17,3))\n",
        "for i in range(6):#\n",
        "  ax[i].imshow(conv1[0,i])\n",
        "ax[2].set_title('first conv')\n",
        "plt.show()"
      ],
      "execution_count": 46,
      "outputs": [
        {
          "output_type": "display_data",
          "data": {
            "image/png": "[encoded data removed]",
            "text/plain": [
              "<Figure size 1224x216 with 6 Axes>"
            ]
          },
          "metadata": {
            "tags": [],
            "needs_background": "light"
          }
        }
      ]
    },
    {
      "cell_type": "code",
      "metadata": {
        "id": "g6pNn2f41NLM",
        "colab": {
          "base_uri": "https://localhost:8080/",
          "height": 199
        },
        "outputId": "9e947556-debf-4c5c-c830-8d10b32cc2d6"
      },
      "source": [
        "fig, ax = plt.subplots(1,6,figsize=(17,3))\n",
        "for i in range(6):#\n",
        "  ax[i].imshow(pool1[0,i])\n",
        "ax[2].set_title('first pool')\n",
        "plt.show()"
      ],
      "execution_count": 45,
      "outputs": [
        {
          "output_type": "display_data",
          "data": {
            "image/png": "[encoded data removed]",
            "text/plain": [
              "<Figure size 1224x216 with 6 Axes>"
            ]
          },
          "metadata": {
            "tags": [],
            "needs_background": "light"
          }
        }
      ]
    }
  ]
}